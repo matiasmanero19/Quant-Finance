{
 "cells": [
  {
   "cell_type": "markdown",
   "metadata": {},
   "source": [
    "# QuantLib o Introduccion a una Verdadera plataforma de pricing/riesgo"
   ]
  },
  {
   "cell_type": "markdown",
   "metadata": {},
   "source": [
    "## Introduccion"
   ]
  },
  {
   "cell_type": "markdown",
   "metadata": {},
   "source": [
    "Por mi tema de trabajo de analisita cuantitativo para bancos de inversión de EEUU, me tope varias veces con quantlib.\n",
    "\n",
    "[quantlib.org](http://quantlib.org)\n",
    "\n"
   ]
  },
  {
   "cell_type": "markdown",
   "metadata": {},
   "source": [
    "QuantLib es una libreria de finanzas cuantitativas OpenSource. Esta escrita en C++, puramente orientada a objetos.\n",
    "Existen wrappers en otros lenguajes como:\n",
    "    \n",
    "* Python [quantlib-python-docs.readthedocs.io](http://quantlib-python-docs.readthedocs.io)\n",
    "* R [cran.r-project.org/web/packages/RQuantLib](http://cran.r-project.org/web/packages/RQuantLib)\n",
    "* Excel [quantlib.org/quantlibxl/](http://quantlib.org/quantlibxl/)"
   ]
  },
  {
   "cell_type": "markdown",
   "metadata": {},
   "source": [
    "Cabe aclarar que la versión mas completa es la de C++, dado que muchas veces pasa tiempo hasta que se adaptan a los otros lenguajes, y algunos módulos directamente se dejan de lado y no se adaptan.\n",
    "Se usa tanto en la industria como en la academia."
   ]
  },
  {
   "cell_type": "markdown",
   "metadata": {},
   "source": [
    "Esta orientada orientada mas a los Quants Q que a los Quant P, según la ‘nomenclatura de Meucci’\n",
    "\n",
    "[http://talus.maths.usyd.edu.au/u/UG/SM/MATH3075/r/Meucci_2011.pdf](http://talus.maths.usyd.edu.au/u/UG/SM/MATH3075/r/Meucci_2011.pdf)\n",
    "\n",
    "Con esto quiero decir que no es una librería de herramientas centradas en la estadística, sino en la probabilidad."
   ]
  },
  {
   "cell_type": "markdown",
   "metadata": {},
   "source": [
    "Uno de los objetivos fue armar una comunidad de desarrolladores quant y un código común, validado y testeado para evitar que los quants (cito) ‘reinventen la rueda’ cada vez que se disponían a armar las librerías numéricas en sus respectivos trabajos.\n"
   ]
  },
  {
   "cell_type": "markdown",
   "metadata": {},
   "source": [
    "Es una excelente puerta de entrada a como funciona una verdadera librería(OOP) de pricing/riesgo en un banco de inversión, o en un fondo cuantitativo.\n",
    "Resuelve de manera sencilla grandes dolores de cabeza como convenciones de ‘daycount’, calendarios de diferentes mercados, etc.\n",
    "Personalmente lo use mas que nada de referencia, comparativa, de benchmark y a modo de ‘juego’. Pero tranquilamente se puede montar uno en Quantlib para tener una librería robusta de pricing y riesgo."
   ]
  },
  {
   "cell_type": "markdown",
   "metadata": {},
   "source": [
    "## Ejemplos practicos"
   ]
  },
  {
   "cell_type": "markdown",
   "metadata": {},
   "source": [
    "### Instalacion de la libreria\n",
    "\n",
    "El modulo de QuantLib en python es QuantLib\n",
    "\n",
    "Se puede instalar por ejemplo desde una terminal con el comando \n",
    "\n",
    "**pip install QuantLib**\n",
    "\n",
    "\n"
   ]
  },
  {
   "cell_type": "code",
   "execution_count": 3,
   "metadata": {},
   "outputs": [],
   "source": [
    "#from Codigo.utils_plots import *\n",
    "\n",
    "import QuantLib as ql"
   ]
  },
  {
   "cell_type": "markdown",
   "metadata": {},
   "source": [
    "### Precios (y mas) de Opciones Financieras"
   ]
  },
  {
   "cell_type": "markdown",
   "metadata": {},
   "source": [
    "Recordar el concepto de Opcion Financiera:\n",
    "    \n",
    "**Definición** \n",
    "Una opción es un contrato que le da al dueño el derecho, pero no la obligación, de negociar un activo predeterminado, llamado también el activo subyacente por un precio determinado, llamado también precio de ejercicio en un tiempo en el futuro, llamada la fecha de expiración. Una opción **call** da al dueño el derecho a comprar y una **put**, el derecho a vender.\n",
    "\n",
    "Jerga en ingles – lenguaje en el que encontrarán la mayoría de la bib.:\n",
    "Activo subyacente – Underlying asset\n",
    "Precio de ejercicio – Strike Price\n",
    "Fecha de expiración – Expiry/Maturity\n",
    "\n",
    "\n",
    "El valor a vencimiento del contrato (**payoff**) de una opcion call es:\n",
    "\n",
    "$$\\max(S(T)-K,0)$$\n",
    "\n",
    "\n",
    "El **payoff** de una opcion put es:\n",
    "\n",
    "$$\\max(K-S(T),0)$$\n"
   ]
  },
  {
   "cell_type": "markdown",
   "metadata": {},
   "source": [
    "Obtener el precio justo de una opcion no es un problema trivial. En principio la prima (precio) depende de lo siguiente:\n",
    "\n",
    "* Precio spot ($S$) del activo subyacente\n",
    "\n",
    "* Precio de ejercicio ($K$) - fijado en el contrato\n",
    "\n",
    "* Tiempo a Expiración ($T$) (Time to Maturity) - fijado en el contrato\n",
    "\n",
    "* Volatilidad ($\\sigma$) - Dependiendo el modelo elegido sera constante (volatilidad implicita), estocastica, o alguna estructura local, etc\n",
    "\n",
    "* Tasa de interés libre de riesgo ($r$) (Risk-free IR) - Dependiendo el modelo elegido sera constante (tasa constante libre de riesgo), estocastica o bien una curva de tasa, etc\n",
    "\n",
    "* Dividendos ($q$) - - Dependiendo el modelo elegido sera constante (tasa constante libre de riesgo), que represente el flujo esperado de pagos, etc\n",
    "\n",
    "Por ejemplo, en el modelo de Black-Scholes tanto $\\sigma$, $r$ como $q$ son constantes\n",
    "\n",
    "En QuantLib esto va a ser importante. La libreria es lo suficientemente flexible para poder aceptar diferentes tipos de modelos para cada una de las variables.\n"
   ]
  },
  {
   "cell_type": "markdown",
   "metadata": {},
   "source": [
    "Veamos un ejemplo en particular y como usariamos QuantLib para resolver el problema:\n",
    "\n",
    "\n",
    "### Ejemplo\n",
    "Supongamos que se le quiere buscar un precio justo a una opcion de AAPL con precio strike de 450 expirando el 16 de octubre de 2020. Supongamos que el spot es 440. La vol implicita es sabida que es 31% **(1)**, y tiene un dividendo de 0.75% anual **(2)** y en el mercado se puede prestar y tomar prestado sin riesgo al 0.01% **(3)**. Valuemos la opcion al dia de hoy (10 de Agosto 2020)\n"
   ]
  },
  {
   "cell_type": "markdown",
   "metadata": {},
   "source": [
    "#### Definimos los inputs"
   ]
  },
  {
   "cell_type": "code",
   "execution_count": 2,
   "metadata": {},
   "outputs": [],
   "source": [
    "precio_activo = 440 #Spot (S)\n",
    "precio_ejercicio = 450 #Strike (K)\n",
    "volatilidad = 0.3394  #Volatilidad Implicita anualizada (sigma)\n",
    "tasa_interes = 0.0013 #tasa libre de riesgo anualizada (r)\n",
    "tasa_dividendos =  0.075 #tasa de dividendos anualizada (q)\n"
   ]
  },
  {
   "cell_type": "markdown",
   "metadata": {},
   "source": [
    " Para las fechas QuantLib es muy preciso. Pide convenciones y calendarios.\n",
    " "
   ]
  },
  {
   "cell_type": "markdown",
   "metadata": {},
   "source": [
    "#### La clase `Date`\n",
    "\n",
    "El objeto `Date` se puede crear usando el constructor `Date(day, month, year)`. Es bueno notar que `day` es el primer argumento, seguido de `month` y despues `year`. Esto es distinto al objeto `datetime`de python."
   ]
  },
  {
   "cell_type": "code",
   "execution_count": 3,
   "metadata": {},
   "outputs": [],
   "source": [
    "#Expiracion el 16 de octubre de 2020\n",
    "fecha_expiracion = ql.Date(16, 10, 2020)\n",
    "\n",
    "#Valuacion el 16 de octubre de 2020\n",
    "fecha_valuacion = ql.Date(6, 8, 2020)\n",
    "ql.Settings.instance().evaluationDate = fecha_valuacion\n",
    "\n",
    "#Calendario y convencion de daycount\n",
    "day_count = ql.Actual365Fixed()\n",
    "calendario = ql.UnitedStates()\n"
   ]
  },
  {
   "cell_type": "markdown",
   "metadata": {},
   "source": [
    "#### Aqui construimos a la opcion europea"
   ]
  },
  {
   "cell_type": "markdown",
   "metadata": {},
   "source": [
    "Se definen los objetos:\n",
    "\n",
    "* Payoff (`PlainVanillaPayoff`) que requiere pasarle el tipo de opcion (CALL, PUT) y el precio de ejercicio - otros payoffs implementados en quantlib: `SuperSharePayoff`, `SuperFundPayoff`, `GapPayoff`, `StickyMinPayoff`, `CashOrNothingPayoff`, `ForwardTypePayoff`, `StickyMaxPayoff`, `AssetOrNothingPayoff`, `RatchetMinPayoff`, `PercentageStrikePayoff`, `PlainVanillaPayoff`, `RatchetMaxPayoff`, `StickyPayoff`, `FloatingTypePayoff`, `RatchetPayoff`, `DoubleStickyRatchetPayoff`, y `NullPayoff`.\n",
    "* Ejercicio Europeo (`EuropeanExercise`) que requiere pasarle la fecha de expiracion - otros ejercicios que acepta QuantLib: `AmericanExercise`, `BermudanExercise`"
   ]
  },
  {
   "cell_type": "code",
   "execution_count": 4,
   "metadata": {},
   "outputs": [],
   "source": [
    "tipo_opcion = ql.Option.Call #Tipo de opcion (CALL o PUT)\n",
    "payoff = ql.PlainVanillaPayoff(tipo_opcion, precio_ejercicio)\n",
    "ejercicio_europeo = ql.EuropeanExercise(fecha_expiracion)"
   ]
  },
  {
   "cell_type": "markdown",
   "metadata": {},
   "source": [
    "Con estos dos se define la clase Opcion `VanillaOption`. QuantLib ofrece una gran cantidad de tipos de opciones: `BarrierOption`, `BasketOption`, `CdsOption`, `CliquetOption`, `CompoundOption`, `DiscreteAveragingAsianOption`, `DiscretizedOption`, `DividendBarrierOption`, `DividendVanillaOption`, `DoubleBarrierOption`, `ForwardVanillaOption`, `HimalayaOption`, `MargrabeOption`, `MultiAssetOption`, `OneAssetOption`, `PagodaOption`, `PathMultiAssetOption`, `QuantoBarrierOption`, `QuantoDoubleBarrierOption`, `QuantoForwardVanillaOption`, `QuantoOptionResults`, `QuantoVanillaOption`, `RiskyAssetSwapOption`, `SimpleChooserOption`, `SpreadOption`, `TwoAssetBarrierOption`, `VanillaOption`, `VanillaStorageOption`, `VanillaSwingOption`, `VarianceOption` Entre otras!!\n"
   ]
  },
  {
   "cell_type": "code",
   "execution_count": 5,
   "metadata": {},
   "outputs": [],
   "source": [
    "opcion_europea = ql.VanillaOption(payoff, ejercicio_europeo)"
   ]
  },
  {
   "cell_type": "markdown",
   "metadata": {},
   "source": [
    "#### Aca constuimos el proceso de Black Sholes Merton"
   ]
  },
  {
   "cell_type": "markdown",
   "metadata": {},
   "source": [
    "##### El objeto spot\n",
    "\n",
    "QuantLib precisa que el precio del activo lo tratemos como un objeto en si mismo usando primero `SimpleQuote` que es un metodo general dentro de QuantLib para definir constantes, y luego `QuoteHandle` para generar el handle del objeto. Contiene un metodo para extraer el valor `value()` \n"
   ]
  },
  {
   "cell_type": "code",
   "execution_count": 6,
   "metadata": {},
   "outputs": [
    {
     "name": "stdout",
     "output_type": "stream",
     "text": [
      "Recuperamos el spot:  440.0\n"
     ]
    }
   ],
   "source": [
    "objeto_spot = ql.QuoteHandle(ql.SimpleQuote(precio_activo))\n",
    "\n",
    "print(\"Recuperamos el spot: \", objeto_spot.value())"
   ]
  },
  {
   "cell_type": "markdown",
   "metadata": {},
   "source": [
    "##### Los objetos curva de descuento y de dividendos (flat en este caso, constantes) \n",
    "QuantLib trata a la tasa anualizada y a la tasa de dividendos anualizadas a priri como curvas, dado que es la manera natural de modelar estas 'curvas' En este caso, dado que el modelo de Black Scholes Merton las considera a ambas constantes, QuantLib usa la clase `FlatForward` que en efecto crea una curva constante y pide de entrada una fecha de valuacion, la tasa (de interes/de dividendos) propiamente dicha y una convencion de daycount. Una vez creado los objetos curvas se crean con `YieldTermStructureHandle`\n",
    "\n",
    "Este objeto es de suma importancia cuando se usa a QuantLib en modelos de tasa. A este objeto se le podran extraer metodos como `discount()`, `zeroRate()`  y `forwardRate()`."
   ]
  },
  {
   "cell_type": "code",
   "execution_count": 7,
   "metadata": {},
   "outputs": [
    {
     "name": "stdout",
     "output_type": "stream",
     "text": [
      "Recuperamos la tasa: 0.001299999999999829\n"
     ]
    }
   ],
   "source": [
    "objeto_tasa_interes = ql.YieldTermStructureHandle(ql.FlatForward(fecha_valuacion, \n",
    "                                                                tasa_interes, \n",
    "                                                                day_count))\n",
    "\n",
    "tasa_recup = objeto_tasa_interes.forwardRate(fecha_valuacion, fecha_expiracion, day_count, ql.Continuous).rate()\n",
    "\n",
    "print(\"Recuperamos la tasa:\",   tasa_recup)"
   ]
  },
  {
   "cell_type": "code",
   "execution_count": 8,
   "metadata": {},
   "outputs": [
    {
     "name": "stdout",
     "output_type": "stream",
     "text": [
      "Recuperamos la tasa: 0.07500000000000008\n"
     ]
    }
   ],
   "source": [
    "objeto_tasa_dividendos = ql.YieldTermStructureHandle(ql.FlatForward(fecha_valuacion, \n",
    "                                                      tasa_dividendos, \n",
    "                                                      day_count))\n",
    "div_recup = objeto_tasa_dividendos.forwardRate(fecha_valuacion, fecha_expiracion, day_count, ql.Continuous).rate()\n",
    "\n",
    "print(\"Recuperamos la tasa:\",   div_recup)\n"
   ]
  },
  {
   "cell_type": "markdown",
   "metadata": {},
   "source": [
    "##### El objeto volatilidad (flat en este caso, constante)\n",
    "El modelado de la volatilidad es uno de los mayores desafios para un analista. QuantLib permite el uso de multiples modelos de volatilidad. El objeto mas general es `VolatilityTermStructure`. En nuestro caso, suponemos volatilidad constante y usamos la clase `BlackConstantVol`. El objeto contiene metodos como `blackVol`, `blackVariance`, `blackForwardVol` y `blackForwardVariance`"
   ]
  },
  {
   "cell_type": "code",
   "execution_count": 9,
   "metadata": {},
   "outputs": [
    {
     "name": "stdout",
     "output_type": "stream",
     "text": [
      "Recuperamos la volatilidad: 0.3394\n"
     ]
    }
   ],
   "source": [
    "objeto_volatilidad = ql.BlackVolTermStructureHandle(ql.BlackConstantVol(fecha_valuacion, \n",
    "                                                                 calendario, \n",
    "                                                                 volatilidad, \n",
    "                                                             day_count))\n",
    "vol_recup = objeto_volatilidad.blackVol(fecha_expiracion, precio_ejercicio)\n",
    "\n",
    "print(\"Recuperamos la volatilidad:\",   vol_recup)\n"
   ]
  },
  {
   "cell_type": "markdown",
   "metadata": {},
   "source": [
    "##### El proceso propiamente dicho\n",
    "\n",
    "Ahora con todos los ingredientes necesarios se define el proceso estocastico `StochasticProcess` que modela el activo. En este caso es el de Black Scholes Merton `BlackScholesMertonProcess`, que necesita como entrada los objetos de spot, tasa de dividendos, tasa de interes y volatilidad. Es un "
   ]
  },
  {
   "cell_type": "code",
   "execution_count": 10,
   "metadata": {},
   "outputs": [],
   "source": [
    "proceso_BSM = ql.BlackScholesMertonProcess(objeto_spot, \n",
    "                                           objeto_tasa_dividendos, \n",
    "                                           objeto_tasa_interes, \n",
    "                                           objeto_volatilidad)"
   ]
  },
  {
   "cell_type": "markdown",
   "metadata": {},
   "source": [
    "El proceso de BlackScholesMerton es solamente un posible proceso estocastico para la dinamica del activo. QuantLib ofrece la posibilidad de trabajar con los siguientes procesos: \n",
    "\n",
    "`BatesProcess`, `BlackProcess`, `BlackScholesMertonProcess`, `BlackScholesProcess`, `CoxIngersollRossProcess`, `ExtendedBlackScholesMertonProcess`, `ExtendedOrnsteinUhlenbeckProcess`, `ExtOUWithJumpsProcess`, `ForwardMeasureProcess`, `ForwardMeasureProcess1D`, `G2ForwardProcess`, `G2Process`, `GarmanKohlagenProcess`, `GemanRoncoroniProcess`, `GeneralizedBlackScholesProcess`, `GeneralizedOrnsteinUhlenbeckProcess`, `GeometricBrownianMotionProcess`, `GJRGARCHProcess`, `GsrProcess`, `HestonProcess`, `HullWhiteForwardProcess`, `HullWhiteProcess`, `HybridHestonHullWhiteProcess`, `KlugeExtOUProcess`, `LiborForwardModelProcess`, `MarketModelVolProcess`, `Merton76Process`, `MfStateProcess`, `OrnsteinUhlenbeckProcess`, `SquareRootProcess`, `StochasticProcess`, `StochasticProcess1D`, `StochasticProcessArray`, `VarianceGammaProcess`, `VegaStressedBlackScholesProcess`, \n"
   ]
  },
  {
   "cell_type": "markdown",
   "metadata": {},
   "source": [
    "## Modelos de precio"
   ]
  },
  {
   "cell_type": "markdown",
   "metadata": {},
   "source": [
    "Ahora que tenemos el proceso armado llego finalmente la hora de elegir un modelo para poner precio y hallarlo. \n",
    "\n",
    "Para esto necesitamos 3 ingredientes:\n",
    "\n",
    "1) La opcion (en nuestro ejemplo `opcion_europea`)\n",
    "\n",
    "2) El proceso (en nuestro ejemplo `proceso_BSM`)\n",
    "\n",
    "3) El modelo (Engine)\n",
    "\n",
    "Al objeto opcion que es parte de `instrument`, le aplico el metodo `setPricingEngine`"
   ]
  },
  {
   "cell_type": "markdown",
   "metadata": {},
   "source": [
    "Quantlib ofrece una libreria muy extensa de modelos de pricing para Opciones. En este tipo de cosas reside el poder de QuantLib. Estos son los modelos existentes en QuantLib\n",
    "\n",
    "`VarianceGammaEngine`, `FFTEngine`, `FFTVanillaEngine`, `FFTVarianceGammaEngine`, `AnalyticBSMHullWhiteEngine`, `AnalyticDigitalAmericanEngine`, `AnalyticDigitalAmericanKOEngine`, `AnalyticDividendEuropeanEngine`, `AnalyticEuropeanEngine`, `AnalyticH1HWEngine`, `AnalyticHestonEngine`, `AnalyticHestonHullWhiteEngine`, `AnalyticPTDHestonEngine`, `BaroneAdesiWhaleyApproximationEngine`, `BatesEngine`, `BinomialVanillaEngine`, `BjerksundStenslandApproximationEngine`, `COSHestonEngine`, `FdBatesVanillaEngine`, `FDBermudanEngine`, `FDDividendEngineMerton73`, `FDDividendEngineShiftScale`, `FDDividendShoutEngine`, `FdHestonHullWhiteVanillaEngine`, `FDShoutEngine`, `FDStepConditionEngine`, `FDVanillaEngine`, `HestonExpansionEngine`, `IntegralEngine`, `JumpDiffusionEngine`, `JuQuadraticApproximationEngine`, `MCAmericanEngine`, `MCDigitalEngine`, `MCEuropeanEngine`, `MCEuropeanGJRGARCHEngine`, `MCEuropeanHestonEngine`, `MCVanillaEngine`,\n"
   ]
  },
  {
   "cell_type": "markdown",
   "metadata": {},
   "source": [
    "Veamos cuatro de estos modelos, que suelen ser los primeros que uno ve cuando estudia valuacion de opciones:\n",
    "* Analitico - Formula cerrada, Black Scholes propiamente dicho\n",
    "* Diferencias Finitas - Resolucion de la ecuacion diferencial de Black Sholes\n",
    "* Montecarlo - Simulaciones del proceso de BSM y promedio descontado\n",
    "* Binomial - Arbol Binomial de un proceso que en el limite tiende al proceso de BSM\n",
    "\n",
    "La clase `VanillaOption` tiene los siguientes posibles salidas: `NPV()` - este nos dara el Net  Present Value del contrato; `errorEstimate()` - este nos dara informacion de estimacion si usamos un modelo de aproximacion."
   ]
  },
  {
   "cell_type": "markdown",
   "metadata": {},
   "source": [
    "###  `AnalyticEuropeanEngine` (Black Scholes)"
   ]
  },
  {
   "cell_type": "code",
   "execution_count": 11,
   "metadata": {},
   "outputs": [
    {
     "name": "stdout",
     "output_type": "stream",
     "text": [
      "El precio teorico usando el modelo de BS es:  19.018046859717114\n"
     ]
    }
   ],
   "source": [
    "modelo_BS = ql.AnalyticEuropeanEngine(proceso_BSM)\n",
    "\n",
    "opcion_europea.setPricingEngine(modelo_BS)\n",
    "\n",
    "precio_opcion_BS = opcion_europea.NPV()\n",
    "\n",
    "print(\"El precio teorico usando el modelo de BS es: \", precio_opcion_BS)"
   ]
  },
  {
   "cell_type": "markdown",
   "metadata": {},
   "source": [
    "En el caso de la formula Analitica, QuantLib ofrece la posibilidad de extraer varias sensibilidades (griegas) de la opcion. Entre ellos: `delta()`,  `vega()`, `rho() `, `dividendRho()`, `theta()`, `thetaPerDay()`, `strikeSensitivity()`, `gamma()`, `elasticity()`.\n"
   ]
  },
  {
   "cell_type": "code",
   "execution_count": 12,
   "metadata": {},
   "outputs": [
    {
     "name": "stdout",
     "output_type": "stream",
     "text": [
      "Delta:  0.4258321048466277\n",
      "Vega: 75.18926359141635\n",
      "Rho:  32.74716062566774\n",
      "dividendRho:  -36.446561521667505\n",
      "Theta:  -51.76161250063861\n",
      "Theta_PD:  -0.141812636988051\n",
      "strikeSensitivity:  -0.374106842828442\n",
      "Gamma:  0.0058826519800777724\n",
      "Elasticity 9.852017271520342\n"
     ]
    }
   ],
   "source": [
    "delta_BS = opcion_europea.delta()\n",
    "vega_BS = opcion_europea.vega()\n",
    "rho_BS = opcion_europea.rho() \n",
    "div_rho_BS = opcion_europea.dividendRho()\n",
    "theta_BS = opcion_europea.theta()\n",
    "thetaPD_BS = opcion_europea.thetaPerDay()\n",
    "strike_greek_BS = opcion_europea.strikeSensitivity()\n",
    "\n",
    "gamma_BS = opcion_europea.gamma()\n",
    "elasticity_BS = opcion_europea.elasticity()\n",
    "\n",
    "\n",
    "print(\"Delta: \", delta_BS)\n",
    "print(\"Vega:\", vega_BS)\n",
    "print(\"Rho: \", rho_BS)\n",
    "print(\"dividendRho: \", div_rho_BS)\n",
    "print(\"Theta: \", theta_BS)\n",
    "print(\"Theta_PD: \", thetaPD_BS)\n",
    "print(\"strikeSensitivity: \", strike_greek_BS)\n",
    "\n",
    "print(\"Gamma: \", gamma_BS)\n",
    "print(\"Elasticity\", elasticity_BS)\n",
    "\n",
    "\n",
    "\n"
   ]
  },
  {
   "cell_type": "markdown",
   "metadata": {},
   "source": [
    "###  `FdBlackScholesVanillaEngine` (Diferencias Finitas)"
   ]
  },
  {
   "cell_type": "markdown",
   "metadata": {},
   "source": [
    "Al Engine de Diferencias Finitas se le puede indicar el esquema de diferencias finitas a utilizar en el input `schemeDesc`:\n",
    "\n",
    "* `Hundsdorfer`\n",
    "* `Douglas`\n",
    "* `CraigSneyd`\n",
    "* `ModifiedCraigSneyd`\n",
    "* `ImplicitEuler`\n",
    "* `ExplicitEuler`\n",
    "* `MethodOfLines`\n",
    " \n",
    "Tambine se puede determinar el tamaño de la grilla con `tGrid` y `xGrid` y `dampingSteps`"
   ]
  },
  {
   "cell_type": "code",
   "execution_count": 13,
   "metadata": {},
   "outputs": [
    {
     "name": "stdout",
     "output_type": "stream",
     "text": [
      "El precio teorico usando el modelo de Dif. Finitas es:  19.0258645465868\n"
     ]
    }
   ],
   "source": [
    "tGrid = 100\n",
    "xGrid = 100\n",
    "dampingSteps = 0\n",
    "esquema_df = ql.FdmSchemeDesc.MethodOfLines()\n",
    "\n",
    "modelo_DF = ql.FdBlackScholesVanillaEngine(proceso_BSM, \n",
    "                                           tGrid, \n",
    "                                           xGrid,\n",
    "                                           dampingSteps,\n",
    "                                           esquema_df)\n",
    "\n",
    "opcion_europea.setPricingEngine(modelo_DF)\n",
    "\n",
    "precio_opcion_DF = opcion_europea.NPV()\n",
    "\n",
    "print(\"El precio teorico usando el modelo de Dif. Finitas es: \", precio_opcion_DF)"
   ]
  },
  {
   "cell_type": "markdown",
   "metadata": {},
   "source": [
    "En el caso del modelo de Diferencias Finitas QuantLib ofrece la posibilidad de extraer tres greigas: `delta()`,  `theta()`, `gamma()`."
   ]
  },
  {
   "cell_type": "code",
   "execution_count": 14,
   "metadata": {},
   "outputs": [
    {
     "name": "stdout",
     "output_type": "stream",
     "text": [
      "Delta:  0.4261266324203341\n",
      "Theta:  -52.02236667561396\n",
      "Gamma:  0.005887125208638206\n"
     ]
    }
   ],
   "source": [
    "\n",
    "delta_DF = opcion_europea.delta()\n",
    "theta_DF = opcion_europea.theta()\n",
    "\n",
    "gamma_DF = opcion_europea.gamma()\n",
    "\n",
    "print(\"Delta: \", delta_DF)\n",
    "print(\"Theta: \", theta_DF)\n",
    "\n",
    "print(\"Gamma: \", gamma_DF)\n",
    "\n"
   ]
  },
  {
   "cell_type": "markdown",
   "metadata": {},
   "source": [
    "###  `MCEuropeanEngine` (Montecarlo)\n",
    "\n"
   ]
  },
  {
   "cell_type": "markdown",
   "metadata": {},
   "source": [
    "El Engine de MonteCarlo pide como entrada:\n",
    "* Forma de generacion de numeros aleaorios [necesario]\n",
    "* paso del tiempo (timeSteps) o pasos de tiempo por año (timeStepsPerYear)\n",
    "* cantidad de caminos (requiredSamples)\n",
    "* tolerancia (requiredTolerance)\n",
    "* maximo de caminos (maxSamples)\n",
    "* semilla de generador de numeros aleatorios (seed)\n",
    "\n",
    "\n"
   ]
  },
  {
   "cell_type": "code",
   "execution_count": 17,
   "metadata": {},
   "outputs": [
    {
     "name": "stdout",
     "output_type": "stream",
     "text": [
      "El precio teorico usando el modelo de MonteCarlo es:  18.970399378916017\n"
     ]
    }
   ],
   "source": [
    "generador_numeros_aleatorios = \"PseudoRandom\" \n",
    "\n",
    "#generador_numeros_aleatorios = \"MersenneTwisterUniformRng\"\n",
    "\n",
    "pasos_tiempo=20\n",
    "caminos = 500000\n",
    "modelo_MC = ql.MCEuropeanEngine(proceso_BSM, \n",
    "                                generador_numeros_aleatorios, \n",
    "                                timeSteps = pasos_tiempo,\n",
    "                                requiredSamples = caminos)\n",
    "\n",
    "opcion_europea.setPricingEngine(modelo_MC)\n",
    "\n",
    "precio_opcion_MC = opcion_europea.NPV()\n",
    "\n",
    "print(\"El precio teorico usando el modelo de MonteCarlo es: \",  precio_opcion_MC)"
   ]
  },
  {
   "cell_type": "markdown",
   "metadata": {},
   "source": [
    "Como es sabido, un gran deficit del metodo de MonteCarlo es la obtencion de griegas. En este caso QuantLib no provee metodos de obtencion de griegas\n",
    "\n",
    "Lo que si ofrece como salida es el metodo `errorEstimate()`, que describe el error del metodo de Montecarlo.\n",
    "\n"
   ]
  },
  {
   "cell_type": "code",
   "execution_count": 18,
   "metadata": {},
   "outputs": [
    {
     "name": "stdout",
     "output_type": "stream",
     "text": [
      "Error del metodo de MonteCarlo:  0.0508241008884447\n"
     ]
    }
   ],
   "source": [
    "error_MC = opcion_europea.errorEstimate()\n",
    "print(\"Error del metodo de MonteCarlo: \", error_MC)\n"
   ]
  },
  {
   "cell_type": "markdown",
   "metadata": {},
   "source": [
    "###  `BinomialVanillaEngine` (Binomial)"
   ]
  },
  {
   "cell_type": "markdown",
   "metadata": {},
   "source": [
    "El Engine Binomial pide como entrada un modelo de arbol. QuantLib soporta, entre otros los siguientes:\n",
    "\n",
    "* CRR / CoxRossRubinstein\n",
    "\n",
    "* JOSHI / Joshi4\n",
    "\n",
    "* JR / JarrowRudd \n",
    "\n",
    "* LR / LeisenReimer\n",
    "\n",
    "* TIAN / Tian \n",
    "\n",
    "* TRI / Trigeorgis \n",
    "\n",
    "Por ultimo, pide como entrada la cantidad de pasos del arbol como tercer parametro.\n"
   ]
  },
  {
   "cell_type": "code",
   "execution_count": 19,
   "metadata": {},
   "outputs": [
    {
     "name": "stdout",
     "output_type": "stream",
     "text": [
      "El precio teorico usando el modelo Binomial es:  18.99545340064186\n"
     ]
    }
   ],
   "source": [
    "#por ejemplo, usamos el modelo de Leisner Reimer\n",
    "\n",
    "modelo_arbol = 'LR'\n",
    "cant_pasos_arbol = 1000\n",
    "\n",
    "modelo_Bin = ql.BinomialVanillaEngine(proceso_BSM, \n",
    "                                      modelo_arbol, \n",
    "                                      cant_pasos_arbol)\n",
    "\n",
    "opcion_europea.setPricingEngine(modelo_Bin)\n",
    "\n",
    "precio_opcion_Bin = opcion_europea.NPV()\n",
    "\n",
    "print(\"El precio teorico usando el modelo Binomial es: \",  precio_opcion_Bin)"
   ]
  },
  {
   "cell_type": "markdown",
   "metadata": {},
   "source": [
    "En el caso del modelo Binomial, al igual que el el caso de Diferencias finitas, QuantLib ofrece la posibilidad de extraer tres greigas: `delta()`,  `theta()`, `gamma()`."
   ]
  },
  {
   "cell_type": "code",
   "execution_count": 20,
   "metadata": {},
   "outputs": [
    {
     "name": "stdout",
     "output_type": "stream",
     "text": [
      "Delta:  0.4258059821803505\n",
      "Theta:  -51.858632977833054\n",
      "Gamma:  0.0058912742805174645\n"
     ]
    }
   ],
   "source": [
    "delta_Bin = opcion_europea.delta()\n",
    "theta_Bin = opcion_europea.theta()\n",
    "\n",
    "gamma_Bin = opcion_europea.gamma()\n",
    "\n",
    "\n",
    "print(\"Delta: \", delta_Bin)\n",
    "print(\"Theta: \", theta_Bin)\n",
    "print(\"Gamma: \", gamma_Bin)\n"
   ]
  },
  {
   "cell_type": "markdown",
   "metadata": {},
   "source": [
    "### Opciones Americanas\n",
    "\n",
    "Trabajemos ahora con Opciones Americanas. Son pocas las cosas qeu hay que modificar. Primero redefinimos el tipo de ejercicio a un ejercicio de tipo americano (`AmericanExercise`)\n"
   ]
  },
  {
   "cell_type": "code",
   "execution_count": 21,
   "metadata": {},
   "outputs": [],
   "source": [
    "ejercicio_americano = ql.AmericanExercise(fecha_valuacion, fecha_expiracion)\n",
    "opcion_americana = ql.VanillaOption(payoff, ejercicio_americano)"
   ]
  },
  {
   "cell_type": "markdown",
   "metadata": {},
   "source": [
    "Cramos los objetos necesarios para la valuacion (notar que son identicos que en el caso Europeo.)"
   ]
  },
  {
   "cell_type": "code",
   "execution_count": 22,
   "metadata": {},
   "outputs": [],
   "source": [
    "objeto_spot = ql.QuoteHandle(ql.SimpleQuote(precio_activo))\n",
    "\n",
    "objeto_tasa_interes = ql.YieldTermStructureHandle(ql.FlatForward(fecha_valuacion, \n",
    "                                                            tasa_interes, \n",
    "                                                    day_count))\n",
    "\n",
    "objeto_tasa_dividendos = ql.YieldTermStructureHandle(ql.FlatForward(fecha_valuacion, \n",
    "                                                      tasa_dividendos, \n",
    "                                                      day_count))\n",
    "\n",
    "objeto_volatilidad = ql.BlackVolTermStructureHandle(ql.BlackConstantVol(fecha_valuacion, \n",
    "                                                                 calendario, \n",
    "                                                                 volatilidad, \n",
    "                                                             day_count))\n",
    "\n",
    "proceso_BSM = ql.BlackScholesMertonProcess(objeto_spot, \n",
    "                                           objeto_tasa_dividendos, \n",
    "                                           objeto_tasa_interes, \n",
    "                                           objeto_volatilidad)"
   ]
  },
  {
   "cell_type": "markdown",
   "metadata": {},
   "source": [
    "El siguiente paso es montar el proceso a un modelo (engine) de precios. Veamos que si intentamos usar por ejemplo Black Scholes QuantLib tira un logico error, dado que BS es solamente para opciones Europeas:\n"
   ]
  },
  {
   "cell_type": "code",
   "execution_count": 23,
   "metadata": {},
   "outputs": [
    {
     "ename": "RuntimeError",
     "evalue": "not an European option",
     "output_type": "error",
     "traceback": [
      "\u001b[1;31m---------------------------------------------------------------------------\u001b[0m",
      "\u001b[1;31mRuntimeError\u001b[0m                              Traceback (most recent call last)",
      "\u001b[1;32m<ipython-input-23-1fea00589316>\u001b[0m in \u001b[0;36m<module>\u001b[1;34m\u001b[0m\n\u001b[0;32m      1\u001b[0m \u001b[0mopcion_americana\u001b[0m\u001b[1;33m.\u001b[0m\u001b[0msetPricingEngine\u001b[0m\u001b[1;33m(\u001b[0m\u001b[0mql\u001b[0m\u001b[1;33m.\u001b[0m\u001b[0mAnalyticEuropeanEngine\u001b[0m\u001b[1;33m(\u001b[0m\u001b[0mproceso_BSM\u001b[0m\u001b[1;33m)\u001b[0m\u001b[1;33m)\u001b[0m\u001b[1;33m\u001b[0m\u001b[1;33m\u001b[0m\u001b[0m\n\u001b[1;32m----> 2\u001b[1;33m \u001b[0mprecio_opcion_BS_Ame\u001b[0m \u001b[1;33m=\u001b[0m \u001b[0mopcion_americana\u001b[0m\u001b[1;33m.\u001b[0m\u001b[0mNPV\u001b[0m\u001b[1;33m(\u001b[0m\u001b[1;33m)\u001b[0m\u001b[1;33m\u001b[0m\u001b[1;33m\u001b[0m\u001b[0m\n\u001b[0m",
      "\u001b[1;32m~\\AppData\\Roaming\\Python\\Python37\\site-packages\\QuantLib\\QuantLib.py\u001b[0m in \u001b[0;36mNPV\u001b[1;34m(self)\u001b[0m\n\u001b[0;32m   9170\u001b[0m \u001b[1;33m\u001b[0m\u001b[0m\n\u001b[0;32m   9171\u001b[0m     \u001b[1;32mdef\u001b[0m \u001b[0mNPV\u001b[0m\u001b[1;33m(\u001b[0m\u001b[0mself\u001b[0m\u001b[1;33m)\u001b[0m\u001b[1;33m:\u001b[0m\u001b[1;33m\u001b[0m\u001b[1;33m\u001b[0m\u001b[0m\n\u001b[1;32m-> 9172\u001b[1;33m         \u001b[1;32mreturn\u001b[0m \u001b[0m_QuantLib\u001b[0m\u001b[1;33m.\u001b[0m\u001b[0mInstrument_NPV\u001b[0m\u001b[1;33m(\u001b[0m\u001b[0mself\u001b[0m\u001b[1;33m)\u001b[0m\u001b[1;33m\u001b[0m\u001b[1;33m\u001b[0m\u001b[0m\n\u001b[0m\u001b[0;32m   9173\u001b[0m \u001b[1;33m\u001b[0m\u001b[0m\n\u001b[0;32m   9174\u001b[0m     \u001b[1;32mdef\u001b[0m \u001b[0merrorEstimate\u001b[0m\u001b[1;33m(\u001b[0m\u001b[0mself\u001b[0m\u001b[1;33m)\u001b[0m\u001b[1;33m:\u001b[0m\u001b[1;33m\u001b[0m\u001b[1;33m\u001b[0m\u001b[0m\n",
      "\u001b[1;31mRuntimeError\u001b[0m: not an European option"
     ]
    }
   ],
   "source": [
    "opcion_americana.setPricingEngine(ql.AnalyticEuropeanEngine(proceso_BSM))\n",
    "precio_opcion_BS_Ame = opcion_americana.NPV()"
   ]
  },
  {
   "cell_type": "markdown",
   "metadata": {},
   "source": [
    "Para un pricer 'estilo' BS podemos invocar al modelo de Trabajamos entonces con dos alternativa: El modelo de aproximacion de Bjerksund y Stensland `BjerksundStenslandEngine` y el de Barone Adesi y Whaley `BaroneAdesiWhaleyEngine`"
   ]
  },
  {
   "cell_type": "code",
   "execution_count": 24,
   "metadata": {},
   "outputs": [],
   "source": [
    "opcion_americana.setPricingEngine(ql.BaroneAdesiWhaleyEngine(proceso_BSM))\n",
    "precio_opcion_BAW_Ame = opcion_americana.NPV()\n",
    "\n",
    "opcion_americana.setPricingEngine(ql.BjerksundStenslandEngine(proceso_BSM))\n",
    "precio_opcion_BjSt_Ame = opcion_americana.NPV()\n"
   ]
  },
  {
   "cell_type": "markdown",
   "metadata": {},
   "source": [
    "Invoco ahora a los otros tipos de pricer visrtos en el caso Europeo. Desde ya estos son modificaciones de los anteriores."
   ]
  },
  {
   "cell_type": "code",
   "execution_count": 27,
   "metadata": {},
   "outputs": [],
   "source": [
    "# No hay Black Scholes\n",
    "opcion_americana.setPricingEngine(ql.BinomialVanillaEngine(proceso_BSM, \n",
    "                                                           \"crr\", \n",
    "                                                           1000))\n",
    "precio_opcion_Bin_Ame = opcion_americana.NPV()\n",
    "\n",
    "opcion_americana.setPricingEngine(ql.FdBlackScholesVanillaEngine(proceso_BSM))\n",
    "precio_opcion_DF_Ame = opcion_americana.NPV()\n",
    "\n",
    "opcion_americana.setPricingEngine(ql.MCAmericanEngine(proceso_BSM, \n",
    "                                                      \"PseudoRandom\", \n",
    "                                                      timeSteps=20, \n",
    "                                                      requiredSamples=500000))\n",
    "precio_opcion_MC_Ame = opcion_americana.NPV()\n",
    "\n"
   ]
  },
  {
   "cell_type": "code",
   "execution_count": 28,
   "metadata": {},
   "outputs": [
    {
     "name": "stdout",
     "output_type": "stream",
     "text": [
      "Precio modelo Amercana Bjerksund Stensland QuantLib: 19.217979133477456\n",
      "Precio modelo Amercana Barone Adesi Whaley QuantLib: 19.4053805016032\n",
      "Precio modelo Amercana Binomial QuantLib: 19.430458475988022\n",
      "Precio modelo Amercana Montecarlo QuantLib: 19.310482706193245\n",
      "Precio modelo Amercana Dif. FinitasQuantLib: 19.412008635932988\n"
     ]
    }
   ],
   "source": [
    "print(\"Precio modelo Amercana Bjerksund Stensland QuantLib:\", precio_opcion_BjSt_Ame)\n",
    "print(\"Precio modelo Amercana Barone Adesi Whaley QuantLib:\", precio_opcion_BAW_Ame)\n",
    "print(\"Precio modelo Amercana Binomial QuantLib:\", precio_opcion_Bin_Ame)\n",
    "print(\"Precio modelo Amercana Montecarlo QuantLib:\", precio_opcion_MC_Ame)\n",
    "print(\"Precio modelo Amercana Dif. FinitasQuantLib:\", precio_opcion_DF_Ame)"
   ]
  },
  {
   "cell_type": "code",
   "execution_count": null,
   "metadata": {},
   "outputs": [],
   "source": []
  },
  {
   "cell_type": "code",
   "execution_count": null,
   "metadata": {},
   "outputs": [],
   "source": []
  }
 ],
 "metadata": {
  "kernelspec": {
   "display_name": "Python 3",
   "language": "python",
   "name": "python3"
  },
  "language_info": {
   "codemirror_mode": {
    "name": "ipython",
    "version": 3
   },
   "file_extension": ".py",
   "mimetype": "text/x-python",
   "name": "python",
   "nbconvert_exporter": "python",
   "pygments_lexer": "ipython3",
   "version": "3.7.4"
  }
 },
 "nbformat": 4,
 "nbformat_minor": 1
}
