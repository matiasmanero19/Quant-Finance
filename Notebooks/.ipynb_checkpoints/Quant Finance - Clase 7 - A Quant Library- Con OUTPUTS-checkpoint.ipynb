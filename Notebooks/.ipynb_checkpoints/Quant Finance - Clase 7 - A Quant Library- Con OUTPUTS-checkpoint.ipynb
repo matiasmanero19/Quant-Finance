{
 "cells": [
  {
   "cell_type": "markdown",
   "metadata": {},
   "source": [
    "# Quant Finance - Clase 7 - A Quant Library"
   ]
  },
  {
   "cell_type": "markdown",
   "metadata": {},
   "source": [
    "## Libreria Stock Options"
   ]
  },
  {
   "cell_type": "markdown",
   "metadata": {},
   "source": [
    "Modulos necesarios\n",
    "\n",
    "varios de library (en github),\n",
    "\n",
    "matplotlib,\n",
    "\n",
    "datetime,\n",
    "\n",
    "sys"
   ]
  },
  {
   "cell_type": "markdown",
   "metadata": {},
   "source": [
    "### Importo los modulos"
   ]
  },
  {
   "cell_type": "code",
   "execution_count": null,
   "metadata": {},
   "outputs": [],
   "source": [
    "import sys\n",
    "sys.path.append('..')\n",
    "#Para poder leer los modulos dentro del directorio \n",
    "from library.stock import Stock\n",
    "from library.options import StockOption\n",
    "from library.market_data import MarketData\n",
    "from library.curves import FlatZeroCurve\n",
    "from library.volatility_surfaces import FlatVolatilitySurface\n",
    "from library.bspricer import BlackScholesFormulaPricer\n",
    "from library.mcpricer import SimpleMonteCarloPricer\n",
    "from library.bsmodel import BlackScholesModel\n",
    "from library.year_fractions import Actual360\n",
    "import yfinance as yf\n",
    "import datetime"
   ]
  },
  {
   "cell_type": "markdown",
   "metadata": {},
   "source": [
    "#### 1) Fecha de valuación"
   ]
  },
  {
   "cell_type": "code",
   "execution_count": null,
   "metadata": {},
   "outputs": [],
   "source": [
    "t = datetime.date(2020,6,12)"
   ]
  },
  {
   "cell_type": "markdown",
   "metadata": {},
   "source": [
    "#### 2) Creamos el stock y agregamos solo su precio de cierre en t"
   ]
  },
  {
   "cell_type": "code",
   "execution_count": null,
   "metadata": {},
   "outputs": [],
   "source": [
    "stock = Stock( name = 'test_stock' )\n",
    "stock.add_close_price( time = t, price = 42 )"
   ]
  },
  {
   "cell_type": "markdown",
   "metadata": {},
   "source": [
    "#### 3) Creamos la superficie de volatilidad y agregamos volatilidad al cierre de t"
   ]
  },
  {
   "cell_type": "code",
   "execution_count": null,
   "metadata": {},
   "outputs": [],
   "source": [
    "vol_surface = FlatVolatilitySurface( name = 'test_vol_surface' )\n",
    "vol_surface.add_close_volatility( time = t, strike = None, maturity = None, volatility = 0.2 )"
   ]
  },
  {
   "cell_type": "markdown",
   "metadata": {},
   "source": [
    "#### 4) Creamos una curva de descuento flat y agregamos la tasa de descuento al cierre de t"
   ]
  },
  {
   "cell_type": "code",
   "execution_count": null,
   "metadata": {},
   "outputs": [],
   "source": [
    "zero_curve = FlatZeroCurve( name = 'test_zero_curve', year_fraction = Actual360 )\n",
    "zero_curve.add_close_zero_rate( time = t, zero_rate = 0.1 )"
   ]
  },
  {
   "cell_type": "markdown",
   "metadata": {},
   "source": [
    "#### 5) Creamos el objeto que contiene la información del mercado"
   ]
  },
  {
   "cell_type": "code",
   "execution_count": null,
   "metadata": {},
   "outputs": [],
   "source": [
    "market_data = MarketData()\n",
    "market_data.add_stock( stock )\n",
    "market_data.add_volatility_surface( vol_surface )\n",
    "market_data.add_zero_curve( zero_curve )"
   ]
  },
  {
   "cell_type": "markdown",
   "metadata": {},
   "source": [
    "#### 6) Definimos el instrumento de derivado (stock)"
   ]
  },
  {
   "cell_type": "code",
   "execution_count": null,
   "metadata": {},
   "outputs": [],
   "source": [
    "maturity = datetime.date(2020,12,9)\n",
    "option_type = 'call'\n",
    "option = StockOption(   underlier_name = 'test_stock', \n",
    "                        strike = 40, \n",
    "                        maturity = maturity, \n",
    "                        payoff_name = option_type\n",
    "                    )"
   ]
  },
  {
   "cell_type": "markdown",
   "metadata": {},
   "source": [
    "#### 7) Calculamos el precio usando diferentes pricers"
   ]
  },
  {
   "cell_type": "markdown",
   "metadata": {},
   "source": [
    "#### A) Formula de Black-Scholes"
   ]
  },
  {
   "cell_type": "code",
   "execution_count": null,
   "metadata": {},
   "outputs": [],
   "source": [
    "pricer = BlackScholesFormulaPricer( option = option, market_data = market_data ) \n",
    "pricer_parameters = {'underlier_vol': 'test_vol_surface', 'zero_curve': 'test_zero_curve'}\n",
    "pricer.initialize_pricer(pricer_parameters)\n",
    "print( 'BS formula:' )\n",
    "print( pricer.npv(time = t) )"
   ]
  },
  {
   "cell_type": "markdown",
   "metadata": {},
   "source": [
    "#### B) Monte-Carlo"
   ]
  },
  {
   "cell_type": "code",
   "execution_count": null,
   "metadata": {},
   "outputs": [],
   "source": [
    "pricer = SimpleMonteCarloPricer( option = option, market_data = market_data )\n",
    "model = BlackScholesModel( rate = 0.1, volatility = 0.2 )\n",
    "pricer_parameters = { 'zero_curve': 'test_zero_curve', 'samples': 1000000 }\n",
    "pricer.initialize_model(model)    \n",
    "pricer.initialize_pricer(pricer_parameters)    \n",
    "print( 'Simple Montecarlo:' )\n",
    "print( pricer.npv(time = t) )"
   ]
  }
 ],
 "metadata": {
  "celltoolbar": "Raw Cell Format",
  "kernelspec": {
   "display_name": "Python 3",
   "language": "python",
   "name": "python3"
  },
  "language_info": {
   "codemirror_mode": {
    "name": "ipython",
    "version": 3
   },
   "file_extension": ".py",
   "mimetype": "text/x-python",
   "name": "python",
   "nbconvert_exporter": "python",
   "pygments_lexer": "ipython3",
   "version": "3.7.4"
  }
 },
 "nbformat": 4,
 "nbformat_minor": 4
}
