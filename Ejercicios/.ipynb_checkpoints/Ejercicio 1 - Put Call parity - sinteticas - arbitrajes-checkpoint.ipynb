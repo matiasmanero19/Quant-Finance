{
 "cells": [
  {
   "cell_type": "markdown",
   "metadata": {},
   "source": [
    "# Ejercicio 1 - Generacion de Puts/Calls sinteticas / Busqueda de 'irregularidades'"
   ]
  },
  {
   "cell_type": "markdown",
   "metadata": {},
   "source": [
    "### PROBLEMAS: 1) Se queire operar en un Put que no existe en el mercado por la razon de inversion/riesgo que sea, sin embargo dicho Put no esta en el mercado.  2) Se quiere arbitrar posibles desfazajes de Puts y Calls \n",
    "\n",
    "\n",
    "La idea de este ejercicio es tomar un ticker en el mercado (ARG o US), obtener el panel de opciones, completarlo con datos de tasa y de dividendos y 'completarlo' con las opciones que no esten disponibles en el mercado usando sinteticas ayudados de la relacion Put-Call parity.\n",
    "\n",
    "\n",
    "\n",
    "\n",
    "\n"
   ]
  },
  {
   "cell_type": "markdown",
   "metadata": {},
   "source": [
    "## 1) Obtencion del panel de opciones de un ticker del mercado [Dificultad 1]"
   ]
  },
  {
   "cell_type": "markdown",
   "metadata": {},
   "source": [
    "Para este paso pueden usar los modulos data_nyse o data_byma vistos en clase. Pueden usar la version clean del metodo o pueden generarse el panel como les guste, agregando columnas de mercado o generadas por ustedes.\n",
    "\n",
    "Ejemplos \n",
    "\n",
    "Tickers\n",
    "ARG: 'GGAL'\n",
    "USA: 'AAPL'\n"
   ]
  },
  {
   "cell_type": "code",
   "execution_count": 7,
   "metadata": {},
   "outputs": [],
   "source": [
    "#AQUI CODIGO"
   ]
  },
  {
   "cell_type": "markdown",
   "metadata": {},
   "source": [
    "## 2) Obtencion de curva de tasa para cada maturity o TTM o expiracion [Dificultad 2]"
   ]
  },
  {
   "cell_type": "markdown",
   "metadata": {},
   "source": [
    "En clase hay un ejemplo de generacion de curva 'risk free' usando las tasas Libor e interpolandolas. Pueden usar otras curvas de descuento. En el caso Argentina pueden usar curva de caucion, curva Badlar, investigar el tema.Siguiendo con el dataframe del panel, se generaria una columna nueva con la tasa a usar para ese TTM/madurez. \n",
    "\n",
    "Ejemplos (guia, se pueden proponer otros)\n",
    "\n",
    "USA:https://www.global-rates.com/interest-rates/libor/libor.aspx\n",
    "\n",
    "\n",
    "ARG: \n",
    "\n",
    "BADLAR: https://www.bcra.gob.ar/PublicacionesEstadisticas/Principales_variables_datos.asp?serie=1222&detalle=BADLAR%20en%20pesos%20de%20bancos%20privados%20(en%20%%20n.a.)\n",
    "\n",
    "CAUCIONES: https://www.invertironline.com/mercado/cotizaciones/argentina/cauciones\n",
    "\n"
   ]
  },
  {
   "cell_type": "code",
   "execution_count": 8,
   "metadata": {},
   "outputs": [],
   "source": [
    "#AQUI CODIGO"
   ]
  },
  {
   "cell_type": "markdown",
   "metadata": {},
   "source": [
    "## 3) Obtencion de dividendo / curva de dividendos para cada maturity o TTM o expiracion [Dificultad 1-2]"
   ]
  },
  {
   "cell_type": "markdown",
   "metadata": {},
   "source": [
    "En clase hay un ejemplo de obtencion del dividend yield usando yfinance. Pueden usar otros modelos que usen las fechas de los posibles pagos de dividendos y la estimacion u otras fuentes de datos para el caso Argentino. Siguiendo con el dataframe del panel, se generaria una columna nueva con el dividend yield a usar para ese TTM/madurez.\n",
    "\n",
    "ARG: \n",
    "https://es.investing.com/equities/grupo-financiero-galicia-sa-adr-dividends\n",
    "\n",
    "US (modulo yfinance): \n",
    "ticker = 'AAPL'\n",
    "data = yf.Ticker(ticker)\n",
    "div = float(data.info['dividendYield'])\n",
    "\n"
   ]
  },
  {
   "cell_type": "code",
   "execution_count": 9,
   "metadata": {},
   "outputs": [],
   "source": [
    "#AQUI CODIGO"
   ]
  },
  {
   "cell_type": "markdown",
   "metadata": {},
   "source": [
    "## 4) Buscar Calls para las que no haya Puts (o Puts para las que no haya Calls) en el panel y generarl aproximaciones sinteticamente usando la paridad Put Call para tener un panel 'completo'  [Dificultad 2]"
   ]
  },
  {
   "cell_type": "markdown",
   "metadata": {},
   "source": [
    "En el caso de una Europea con tasa de dividendos div: $$C(0)-P(0) = S(0)e^{-divT} - K e^{-rT}$$ \n",
    "\n",
    "\n",
    "Mas de Put-Call parity: https://financialmathmodels.wordpress.com/2015/05/16/put-call-parity-part-2/"
   ]
  },
  {
   "cell_type": "code",
   "execution_count": 10,
   "metadata": {},
   "outputs": [],
   "source": [
    "#AQUI CODIGO"
   ]
  },
  {
   "cell_type": "markdown",
   "metadata": {},
   "source": [
    "## 5) Para aquellos pares que si hay tanto Put como Call, analizar si se cumple la relacion y proponer alguna estrategia que podria arbitrar la irregularidad [Dificultad 3]"
   ]
  },
  {
   "cell_type": "code",
   "execution_count": 11,
   "metadata": {},
   "outputs": [],
   "source": [
    "#AQUI CODIGO"
   ]
  }
 ],
 "metadata": {
  "kernelspec": {
   "display_name": "Python 3",
   "language": "python",
   "name": "python3"
  },
  "language_info": {
   "codemirror_mode": {
    "name": "ipython",
    "version": 3
   },
   "file_extension": ".py",
   "mimetype": "text/x-python",
   "name": "python",
   "nbconvert_exporter": "python",
   "pygments_lexer": "ipython3",
   "version": "3.7.4"
  }
 },
 "nbformat": 4,
 "nbformat_minor": 4
}
