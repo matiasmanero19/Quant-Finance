{
 "cells": [
  {
   "cell_type": "markdown",
   "metadata": {},
   "source": [
    "# Ejercicio 2 - Opciones fuera de panel - Volatilidad Implicita - Superficie de Volatilidad"
   ]
  },
  {
   "cell_type": "markdown",
   "metadata": {},
   "source": [
    "### PROBLEMA: Se necesita ponerle precio a un contrato que NO esta en el mercado es decir, un par (strike, expiracion) que NO este en el mercado para un contrato OTC. \n",
    "\n",
    "La idea de este ejercicio es tomar un ticker en el mercado (ARG o US), obtener el panel de opciones, obtener las volatilidades implicitas calibrando con precios de mercado.\n",
    "\n",
    "Luego generaremos una superficie de volatilidad homogenea (strikes y maturities)\n",
    "\n",
    "Por ultimo generaremos un panel de opciones alternativo mas granular que el original usando los modelos.\n",
    "\n",
    "Ahora podriamos obtener el precio de la opcion del contrato OTC\n"
   ]
  },
  {
   "cell_type": "markdown",
   "metadata": {},
   "source": [
    "## 1) Repetir 1, 2 y 3 del ejercicio de Put Call Parity [Dificultad 2]"
   ]
  },
  {
   "cell_type": "markdown",
   "metadata": {},
   "source": [
    "\n",
    "### Obtencion del panel de opciones de un ticker del mercado\n",
    "\n",
    "Para este paso pueden usar los modulos data_nyse o data_byma vistos en clase. Pueden usar la version clean del metodo o pueden generarse el panel como les guste, agregando columnas de mercado o generadas por ustedes.\n",
    "\n",
    "Ejemplos \n",
    "\n",
    "Tickers\n",
    "ARG: 'GGAL'\n",
    "USA: 'AAPL'\n",
    "\n",
    "\n",
    "### Obtencion de curva de tasa para cada maturity o TTM o expiracion\n",
    "\n",
    "En clase hay un ejemplo de generacion de curva 'risk free' usando las tasas Libor e interpolandolas. Pueden usar otras curvas de descuento. En el caso Argentina pueden usar curva de caucion, curva Badlar, investigar el tema.Siguiendo con el dataframe del panel, se generaria una columna nueva con la tasa a usar para ese TTM/madurez. \n",
    "\n",
    "Ejemplos (guia, se pueden proponer otros)\n",
    "\n",
    "USA:https://www.global-rates.com/interest-rates/libor/libor.aspx\n",
    "\n",
    "\n",
    "ARG: \n",
    "\n",
    "BADLAR: https://www.bcra.gob.ar/PublicacionesEstadisticas/Principales_variables_datos.asp?serie=1222&detalle=BADLAR%20en%20pesos%20de%20bancos%20privados%20(en%20%%20n.a.)\n",
    "\n",
    "CAUCIONES: https://www.invertironline.com/mercado/cotizaciones/argentina/cauciones\n",
    "\n",
    "### Obtencion de dividendo / curva de dividendos para cada maturity o TTM o expiracion\n",
    "\n",
    "En clase hay un ejemplo de obtencion del dividend yield usando yfinance. Pueden usar otros modelos que usen las fechas de los posibles pagos de dividendos y la estimacion u otras fuentes de datos para el caso Argentino. Siguiendo con el dataframe del panel, se generaria una columna nueva con el dividend yield a usar para ese TTM/madurez.\n",
    "\n",
    "ARG: \n",
    "https://es.investing.com/equities/grupo-financiero-galicia-sa-adr-dividends\n",
    "\n",
    "US (modulo yfinance): \n",
    "ticker = 'AAPL'\n",
    "data = yf.Ticker(ticker)\n",
    "div = float(data.info['dividendYield'])\n"
   ]
  },
  {
   "cell_type": "code",
   "execution_count": 9,
   "metadata": {},
   "outputs": [],
   "source": [
    "#AQUI CODIGO"
   ]
  },
  {
   "cell_type": "markdown",
   "metadata": {},
   "source": [
    "## 2) Con la ayuda de un modelo de pricing de la libreria generar para cada una de las opciones las volatilidades implicitas  [Dificultad 3]"
   ]
  },
  {
   "cell_type": "markdown",
   "metadata": {},
   "source": [
    "Aqui pueden elegir el modelo a usar. Una recomendacion seria usar el Binomial asi se puede captar la condicion ejercicio temprano de las opcioens (Americanas).\n",
    "Tambine pueden elegir el metodo numerico para buscar la optimizacion. Newton fue visto en clase, pero aun mas sencillo seria usar Biseccion (ver abajo)\n",
    "\n",
    "No es trivial par anada ver al metodo de pricing con todos sus parametros como otra funcion con solo la volatilidad (sigma) como variable y los demas parametros fijos para hallar el optimo."
   ]
  },
  {
   "cell_type": "code",
   "execution_count": 5,
   "metadata": {},
   "outputs": [
    {
     "name": "stdout",
     "output_type": "stream",
     "text": [
      "0.5570255162865259 3.7470027081099033e-16\n"
     ]
    }
   ],
   "source": [
    "#Ejemplo de algoritmo de biseccion\n",
    "\n",
    "def samesign(a, b):\n",
    "    return a * b > 0\n",
    "\n",
    "def bisect(func, low, high):\n",
    "    'Find root of continuous function where f(low) and f(high) have opposite signs'\n",
    "\n",
    "    assert not samesign(func(low), func(high))\n",
    "\n",
    "    for i in range(54):\n",
    "        midpoint = (low + high) / 2.0\n",
    "        if samesign(func(low), func(midpoint)):\n",
    "            low = midpoint\n",
    "        else:\n",
    "            high = midpoint\n",
    "\n",
    "    return midpoint\n",
    "\n",
    "def f(x):\n",
    "    return -26 + 85*x - 91*x**2 +44*x**3 -8*x**4 + x**5\n",
    "\n",
    "x = bisect(f, 0, 1)\n",
    "print (x, f(x))"
   ]
  },
  {
   "cell_type": "code",
   "execution_count": 8,
   "metadata": {},
   "outputs": [],
   "source": [
    "#AQUI CODIGO"
   ]
  },
  {
   "cell_type": "markdown",
   "metadata": {},
   "source": [
    "## 3) Generar una grilla uniforme (de strikes y expiries) de volatilidades implicitas (superficie de volatilidad) [Dificultad 5]"
   ]
  },
  {
   "cell_type": "markdown",
   "metadata": {},
   "source": [
    "Aqui la idea es usando las volatilidades implicitas provenientes del mercado, \"rellenar\" una grilla uniforme con volatilidades.\n",
    "\n",
    "Se puede pasar directo a 4\n",
    "\n",
    "\n",
    "Este es un ejercicio D I F I C I L - el solo hecho de investigar el tema y llegar a alguna solucion parcial, al nivel de este curso seria suficiente\n",
    "\n",
    "\n",
    "Bibliografia\n",
    "\n",
    "De menor a mayor\n",
    "\n",
    "1) Esos videos ayudan a enteder el problema:\n",
    "https://www.youtube.com/watch?v=iZR4j3K6Ayw \n",
    "\n",
    "2) Un extracto de un libro de Gatheral con el contexto:\n",
    "http://faculty.baruch.cuny.edu/jgatheral/ImpliedVolatilitySurface.pdf \n",
    "\n",
    "3) Este trabajo de Cris Homescu (comparti unos años de trabajo con el) es un compendio bastante extenso de metodologias\n",
    "https://papers.ssrn.com/sol3/papers.cfm?abstract_id=1882567 \n",
    "\n",
    "4) Aqui hay una tesis muy completa comparando diferentes metodos\n",
    "https://www.diva-portal.org/smash/get/diva2:1191887/FULLTEXT01.pdf  \n",
    "\n",
    "Voy a ver si consigo escribir 2/3 slides sobre un método en particular que yo use en el pasado. \n",
    " \n",
    "\n"
   ]
  },
  {
   "cell_type": "code",
   "execution_count": 9,
   "metadata": {},
   "outputs": [],
   "source": [
    "#AQUI CODIGO"
   ]
  },
  {
   "cell_type": "markdown",
   "metadata": {},
   "source": [
    "## 4) Generar una grilla uniforme (de strikes y expiries) de precios de opciones [Dificultad 2-3]"
   ]
  },
  {
   "cell_type": "markdown",
   "metadata": {},
   "source": [
    "Aqui hay dos caminos.\n",
    "\n",
    "Si se hizo 3) Entonces no es mas que generar precios usando todos los parametros con el modelo de pricing usado para obtener volatilidad implicita. y obtener un nuevo panel con strikes y matirities elegidos por nosotros\n",
    "\n",
    "Si NO se hizo 3, se puede intentar interpolar los precios de las opciones directamente [NO es 100% correcto, pero ayuda a aprender metodos de interpolacion]"
   ]
  },
  {
   "cell_type": "code",
   "execution_count": 10,
   "metadata": {},
   "outputs": [],
   "source": [
    "#AQUI CODIGO"
   ]
  },
  {
   "cell_type": "markdown",
   "metadata": {},
   "source": [
    "## 5) Obtener el precio de la opcion OTC [Dificultad 2]"
   ]
  },
  {
   "cell_type": "markdown",
   "metadata": {},
   "source": [
    "Ahora, con todo el panel de precios, obtener interpolando el strike y la madurez buscada.\n",
    "Si se hizo 3 no es necesario pasar por 4"
   ]
  },
  {
   "cell_type": "code",
   "execution_count": null,
   "metadata": {},
   "outputs": [],
   "source": []
  }
 ],
 "metadata": {
  "kernelspec": {
   "display_name": "Python 3",
   "language": "python",
   "name": "python3"
  },
  "language_info": {
   "codemirror_mode": {
    "name": "ipython",
    "version": 3
   },
   "file_extension": ".py",
   "mimetype": "text/x-python",
   "name": "python",
   "nbconvert_exporter": "python",
   "pygments_lexer": "ipython3",
   "version": "3.7.4"
  }
 },
 "nbformat": 4,
 "nbformat_minor": 4
}
